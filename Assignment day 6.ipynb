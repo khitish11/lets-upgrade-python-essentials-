{
 "cells": [
  {
   "cell_type": "code",
   "execution_count": 26,
   "metadata": {},
   "outputs": [],
   "source": [
    "class Bank_Account: \n",
    "    def __init__(self): \n",
    "        self.balance=0\n",
    "        print(\"Hello!!! Welcome to the Deposit & Withdrawal Machine\") \n",
    "  \n",
    "    def deposit(self): \n",
    "        amount=float(input(\"Enter amount to be Deposited: \")) \n",
    "        self.balance += amount \n",
    "        print(\"\\n Amount Deposited:\",amount) \n",
    "  \n",
    "    def withdraw(self): \n",
    "        amount = float(input(\"Enter amount to be Withdrawn: \")) \n",
    "        if self.balance>=amount: \n",
    "            self.balance-=amount \n",
    "            print(\"\\n You Withdrew:\", amount) \n",
    "        else: \n",
    "            print(\"\\n Insufficient balance  \") \n",
    "  \n",
    "    def display(self): \n",
    "        print(\"\\n Net Available Balance=\",self.balance)"
   ]
  },
  {
   "cell_type": "code",
   "execution_count": 28,
   "metadata": {},
   "outputs": [
    {
     "name": "stdout",
     "output_type": "stream",
     "text": [
      "Hello!!! Welcome to the Deposit & Withdrawal Machine\n"
     ]
    }
   ],
   "source": [
    "s=Bank_Account()"
   ]
  },
  {
   "cell_type": "code",
   "execution_count": null,
   "metadata": {},
   "outputs": [],
   "source": [
    "s.deposit()"
   ]
  },
  {
   "cell_type": "code",
   "execution_count": null,
   "metadata": {},
   "outputs": [],
   "source": [
    "class shape():\n",
    "    def _init_(self,name):\n",
    "        self.name = name\n",
    "    def area(self):\n",
    "        raise NotImplementedError(\"hey define an area functon for this class\")\n",
    "class cone(shape):\n",
    "    def _init_(self,radius,height):\n",
    "        shape._init_(self,\"cone\")\n",
    "        self.radius = radius\n",
    "        self.height = height\n",
    "        print(\"Area of Cone\",3.14*(radius**2)*(height/3))   "
   ]
  },
  {
   "cell_type": "code",
   "execution_count": null,
   "metadata": {},
   "outputs": [],
   "source": [
    "ab = cone(5,7)"
   ]
  },
  {
   "cell_type": "code",
   "execution_count": null,
   "metadata": {},
   "outputs": [],
   "source": []
  },
  {
   "cell_type": "code",
   "execution_count": null,
   "metadata": {},
   "outputs": [],
   "source": []
  },
  {
   "cell_type": "code",
   "execution_count": null,
   "metadata": {},
   "outputs": [],
   "source": []
  }
 ],
 "metadata": {
  "kernelspec": {
   "display_name": "Python 3",
   "language": "python",
   "name": "python3"
  },
  "language_info": {
   "codemirror_mode": {
    "name": "ipython",
    "version": 3
   },
   "file_extension": ".py",
   "mimetype": "text/x-python",
   "name": "python",
   "nbconvert_exporter": "python",
   "pygments_lexer": "ipython3",
   "version": "3.8.3"
  }
 },
 "nbformat": 4,
 "nbformat_minor": 4
}
