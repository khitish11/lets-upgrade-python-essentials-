{
 "cells": [
  {
   "cell_type": "code",
   "execution_count": 4,
   "metadata": {},
   "outputs": [
    {
     "name": "stdout",
     "output_type": "stream",
     "text": [
      "Enter any number4000\n",
      "Bring down to 1000\n"
     ]
    }
   ],
   "source": [
    "num = input(\"Enter any number\")\n",
    "num = int(num)\n",
    "if num<=1000:\n",
    "    print(\"Safe to Land\")\n",
    "elif num>1000 and num<=5000:\n",
    "    print(\"Bring down to 1000\")\n",
    "else:\n",
    "    print(\"turn around\")\n"
   ]
  },
  {
   "cell_type": "code",
   "execution_count": 25,
   "metadata": {},
   "outputs": [
    {
     "name": "stdout",
     "output_type": "stream",
     "text": [
      "Enter any number5\n",
      "Number is prime\n"
     ]
    }
   ],
   "source": [
    "num = input(\"Enter any number\")\n",
    "num = int(num)\n",
    "if num > 1:\n",
    "    for i in range(2,num):\n",
    "        if (num % i) == 0:\n",
    "            print(\"Number is not prime\")\n",
    "            break\n",
    "        else:\n",
    "            print(\"Number is prime\")\n",
    "            break\n",
    "else:\n",
    "    print(\"Number is not prime\")"
   ]
  },
  {
   "cell_type": "code",
   "execution_count": null,
   "metadata": {},
   "outputs": [],
   "source": []
  },
  {
   "cell_type": "code",
   "execution_count": null,
   "metadata": {},
   "outputs": [],
   "source": []
  }
 ],
 "metadata": {
  "kernelspec": {
   "display_name": "Python 3",
   "language": "python",
   "name": "python3"
  },
  "language_info": {
   "codemirror_mode": {
    "name": "ipython",
    "version": 3
   },
   "file_extension": ".py",
   "mimetype": "text/x-python",
   "name": "python",
   "nbconvert_exporter": "python",
   "pygments_lexer": "ipython3",
   "version": "3.8.3"
  }
 },
 "nbformat": 4,
 "nbformat_minor": 4
}
